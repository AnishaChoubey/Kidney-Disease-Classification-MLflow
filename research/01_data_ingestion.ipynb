{
 "cells": [
  {
   "cell_type": "code",
   "execution_count": 1,
   "id": "4124ef4b",
   "metadata": {},
   "outputs": [],
   "source": [
    "import os\n",
    "# os.chdir(r\"C:\\Users\\anish\\Desktop\\Kidney-Disease-Classification-MLflow\")\n",
    "# print(os.getcwd())  # should print project root\n",
    "\n"
   ]
  },
  {
   "cell_type": "code",
   "execution_count": 2,
   "id": "13d906dd",
   "metadata": {},
   "outputs": [
    {
     "data": {
      "text/plain": [
       "'c:\\\\Users\\\\anish\\\\Desktop\\\\Kidney-Disease-Classification-MLflow\\\\research'"
      ]
     },
     "execution_count": 2,
     "metadata": {},
     "output_type": "execute_result"
    }
   ],
   "source": [
    "%pwd"
   ]
  },
  {
   "cell_type": "code",
   "execution_count": 3,
   "id": "d71098b2",
   "metadata": {},
   "outputs": [],
   "source": [
    "os.chdir(\"../\")"
   ]
  },
  {
   "cell_type": "code",
   "execution_count": 4,
   "id": "c77b81f5",
   "metadata": {},
   "outputs": [
    {
     "data": {
      "text/plain": [
       "'c:\\\\Users\\\\anish\\\\Desktop\\\\Kidney-Disease-Classification-MLflow'"
      ]
     },
     "execution_count": 4,
     "metadata": {},
     "output_type": "execute_result"
    }
   ],
   "source": [
    "%pwd"
   ]
  },
  {
   "cell_type": "code",
   "execution_count": 5,
   "id": "506d847a",
   "metadata": {},
   "outputs": [],
   "source": [
    "from dataclasses import dataclass\n",
    "from pathlib import Path\n",
    "\n",
    "@dataclass(frozen=True)\n",
    "class DataIngestionConfig:\n",
    "    root_dir:Path\n",
    "    source_URL:str\n",
    "    local_data_file:Path\n",
    "    unzip_dir:Path\n",
    "\n"
   ]
  },
  {
   "cell_type": "code",
   "execution_count": 6,
   "id": "b5c44e9c",
   "metadata": {},
   "outputs": [
    {
     "name": "stdout",
     "output_type": "stream",
     "text": [
      "Obtaining file:///C:/Users/anish/Desktop/Kidney-Disease-Classification-MLflowNote: you may need to restart the kernel to use updated packages.\n"
     ]
    },
    {
     "name": "stderr",
     "output_type": "stream",
     "text": [
      "WARNING: Ignoring invalid distribution ~otebook (c:\\Users\\anish\\Desktop\\Kidney-Disease-Classification-MLflow\\Kidney\\Lib\\site-packages)\n",
      "  WARNING: Ignoring invalid distribution ~otebook (c:\\Users\\anish\\Desktop\\Kidney-Disease-Classification-MLflow\\Kidney\\Lib\\site-packages)\n",
      "WARNING: Ignoring invalid distribution ~otebook (c:\\Users\\anish\\Desktop\\Kidney-Disease-Classification-MLflow\\Kidney\\Lib\\site-packages)\n",
      "    WARNING: Ignoring invalid distribution ~otebook (c:\\Users\\anish\\Desktop\\Kidney-Disease-Classification-MLflow\\Kidney\\Lib\\site-packages)\n",
      "  DEPRECATION: Legacy editable install of cnnClassifier==0.0.0 from file:///C:/Users/anish/Desktop/Kidney-Disease-Classification-MLflow (setup.py develop) is deprecated. pip 25.3 will enforce this behaviour change. A possible replacement is to add a pyproject.toml or enable --use-pep517, and use setuptools >= 64. If the resulting installation is not behaving as expected, try using --config-settings editable_mode=compat. Please consult the setuptools documentation for more information. Discussion can be found at https://github.com/pypa/pip/issues/11457\n",
      "WARNING: Ignoring invalid distribution ~otebook (c:\\Users\\anish\\Desktop\\Kidney-Disease-Classification-MLflow\\Kidney\\Lib\\site-packages)\n"
     ]
    },
    {
     "name": "stdout",
     "output_type": "stream",
     "text": [
      "\n",
      "  Preparing metadata (setup.py): started\n",
      "  Preparing metadata (setup.py): finished with status 'done'\n",
      "Installing collected packages: cnnClassifier\n",
      "  Attempting uninstall: cnnClassifier\n",
      "    Found existing installation: cnnClassifier 0.0.0\n",
      "    Uninstalling cnnClassifier-0.0.0:\n",
      "      Successfully uninstalled cnnClassifier-0.0.0\n",
      "  Running setup.py develop for cnnClassifier\n",
      "Successfully installed cnnClassifier-0.0.0\n"
     ]
    }
   ],
   "source": [
    "pip install -e ."
   ]
  },
  {
   "cell_type": "code",
   "execution_count": 6,
   "id": "46396dc2",
   "metadata": {},
   "outputs": [],
   "source": [
    "import sys\n",
    "sys.path.append(\"src\")\n",
    "from cnnClassifier.constants import CONFIG_FILE_PATH, PARAMS_FILE_PATH\n",
    "from cnnClassifier.utils.common import read_yaml,create_directories"
   ]
  },
  {
   "cell_type": "code",
   "execution_count": 7,
   "id": "a1a7afe4",
   "metadata": {},
   "outputs": [],
   "source": [
    "class ConfigurationManager:\n",
    "    def __init__(\n",
    "        self,\n",
    "        config_filepath=CONFIG_FILE_PATH,\n",
    "        params_filepath=PARAMS_FILE_PATH):\n",
    "\n",
    "\n",
    "\n",
    "\n",
    "        self.config=read_yaml(config_filepath)\n",
    "        self.params=read_yaml(params_filepath)\n",
    "\n",
    "        create_directories([self.config.artifacts_root])\n",
    "        \n",
    "\n",
    "    def get_data_ingestion_config(self)->DataIngestionConfig:\n",
    "\n",
    "        config=self.config.data_ingestion\n",
    "        create_directories([config.root_dir])\n",
    "\n",
    "        data_ingestion_config=DataIngestionConfig(\n",
    "            root_dir=config.root_dir,\n",
    "            source_URL=config.source_URL,\n",
    "            local_data_file=config.local_data_file,\n",
    "            unzip_dir=config.unzip_dir\n",
    "        )\n",
    "        return data_ingestion_config\n",
    "    \n",
    "\n",
    "    \n",
    "\n",
    "\n",
    "    "
   ]
  },
  {
   "cell_type": "code",
   "execution_count": 8,
   "id": "c03505d5",
   "metadata": {},
   "outputs": [],
   "source": [
    "import os\n",
    "import zipfile\n",
    "import gdown\n",
    "from cnnClassifier import logger\n",
    "from cnnClassifier.utils.common import get_size"
   ]
  },
  {
   "cell_type": "code",
   "execution_count": 9,
   "id": "76439529",
   "metadata": {},
   "outputs": [],
   "source": [
    "class DataIngestion:\n",
    "    def __init__(self,config: DataIngestionConfig):\n",
    "        self.config=config\n",
    "\n",
    "    def download_file(self)-> str:\n",
    "            # '''\n",
    "            # Fetch data from the url\n",
    "            # \n",
    "\n",
    "            try:\n",
    "                dataset_url=self.config.source_URL\n",
    "                zip_download_dir=self.config.local_data_file\n",
    "                os.makedirs(\"artifacts/data_ingestion\",exist_ok=True)\n",
    "                logger.info(f\"Downloading data from {dataset_url} into file {zip_download_dir}\")\n",
    "\n",
    "                file_id=dataset_url.split(\"/\")[-2]\n",
    "                prefix = \"https://drive.google.com/uc?export=download&id=\"\n",
    "                url = prefix + file_id\n",
    "                gdown.download(url,zip_download_dir,quiet=False)\n",
    "                logger.info(f\"Downloading data from {dataset_url} into file {zip_download_dir}\")\n",
    "\n",
    "            except Exception as e:\n",
    "                raise e\n",
    "            \n",
    "    def extract_zip_file(self):\n",
    "            \"\"\"\n",
    "            zip_file_path: str\n",
    "            Extracts the zip file into the data directory\n",
    "            Function returns None\n",
    "            \"\"\"\n",
    "\n",
    "            unzip_path=self.config.unzip_dir\n",
    "            os.makedirs(unzip_path,exist_ok=True)\n",
    "            with zipfile.ZipFile(self.config.local_data_file,'r') as zip_ref:\n",
    "                zip_ref.extractall(unzip_path)\n",
    "\n",
    "\n",
    "\n",
    "                "
   ]
  },
  {
   "cell_type": "code",
   "execution_count": 10,
   "id": "6f389e9d",
   "metadata": {},
   "outputs": [
    {
     "name": "stdout",
     "output_type": "stream",
     "text": [
      "DEBUG YAML RAW TYPE: <class 'dict'>\n",
      "DEBUG YAML RAW CONTENT: {'artifacts_root': 'artifacts', 'data_ingestion': {'root_dir': 'artifacts/data_ingestion', 'source_URL': 'https://drive.google.com/file/d/1SObwCsPjXeuAeWnyTMcw9Z_LWBhTGCkc/view?usp=drive_link', 'local_data_file': 'artifacts/data_ingestion/data.zip', 'unzip_dir': 'artifacts/data_ingestion'}}\n",
      "[2025-09-14 20:32:46,623: INFO: common: yaml file: config\\config.yaml loaded successfully]\n",
      "DEBUG YAML RAW TYPE: <class 'dict'>\n",
      "DEBUG YAML RAW CONTENT: {'random_param1': 42, 'random_param2': 'hello_world', 'random_param3': [1, 2, 3, 4], 'random_param4': {'nested_key1': 0.001, 'nested_key2': True}}\n",
      "[2025-09-14 20:32:46,628: INFO: common: yaml file: params.yaml loaded successfully]\n",
      "[2025-09-14 20:32:46,629: INFO: common: created directory at: artifacts]\n",
      "[2025-09-14 20:32:46,631: INFO: common: created directory at: artifacts/data_ingestion]\n",
      "[2025-09-14 20:32:46,633: INFO: 273730580: Downloading data from https://drive.google.com/file/d/1SObwCsPjXeuAeWnyTMcw9Z_LWBhTGCkc/view?usp=drive_link into file artifacts/data_ingestion/data.zip]\n"
     ]
    },
    {
     "name": "stderr",
     "output_type": "stream",
     "text": [
      "Downloading...\n",
      "From (original): https://drive.google.com/uc?export=download&id=1SObwCsPjXeuAeWnyTMcw9Z_LWBhTGCkc\n",
      "From (redirected): https://drive.google.com/uc?export=download&id=1SObwCsPjXeuAeWnyTMcw9Z_LWBhTGCkc&confirm=t&uuid=c84bd558-fd23-46b2-8d3a-b15c6183bfd3\n",
      "To: c:\\Users\\anish\\Desktop\\Kidney-Disease-Classification-MLflow\\artifacts\\data_ingestion\\data.zip\n",
      "100%|██████████| 412M/412M [03:09<00:00, 2.17MB/s] "
     ]
    },
    {
     "name": "stdout",
     "output_type": "stream",
     "text": [
      "[2025-09-14 20:36:02,003: INFO: 273730580: Downloading data from https://drive.google.com/file/d/1SObwCsPjXeuAeWnyTMcw9Z_LWBhTGCkc/view?usp=drive_link into file artifacts/data_ingestion/data.zip]\n"
     ]
    },
    {
     "name": "stderr",
     "output_type": "stream",
     "text": [
      "\n"
     ]
    }
   ],
   "source": [
    "try:\n",
    "    config=ConfigurationManager()\n",
    "    data_ingestion_config=config.get_data_ingestion_config()\n",
    "    data_ingestion=DataIngestion(config=data_ingestion_config)\n",
    "    data_ingestion.download_file()\n",
    "    data_ingestion.extract_zip_file()\n",
    "except Exception as e:\n",
    "    raise e\n"
   ]
  },
  {
   "cell_type": "code",
   "execution_count": 34,
   "id": "ad43ebc8",
   "metadata": {},
   "outputs": [],
   "source": [
    "CONFIG_FILE_PATH = Path(\"config/config.yaml\")\n",
    "PARAMS_FILE_PATH = Path(\"params.yaml\")\n",
    "\n"
   ]
  },
  {
   "cell_type": "code",
   "execution_count": 37,
   "id": "7f7004cb",
   "metadata": {},
   "outputs": [
    {
     "name": "stdout",
     "output_type": "stream",
     "text": [
      "False\n"
     ]
    }
   ],
   "source": [
    "from pathlib import Path\n",
    "print(Path(\"config/config.yaml\").resolve().exists())\n"
   ]
  }
 ],
 "metadata": {
  "kernelspec": {
   "display_name": "Kidney (3.11.3)",
   "language": "python",
   "name": "python3"
  },
  "language_info": {
   "codemirror_mode": {
    "name": "ipython",
    "version": 3
   },
   "file_extension": ".py",
   "mimetype": "text/x-python",
   "name": "python",
   "nbconvert_exporter": "python",
   "pygments_lexer": "ipython3",
   "version": "3.11.3"
  }
 },
 "nbformat": 4,
 "nbformat_minor": 5
}
